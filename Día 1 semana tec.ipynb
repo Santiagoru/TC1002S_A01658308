{
 "cells": [
  {
   "cell_type": "code",
   "execution_count": 1,
   "id": "b2e9a45f",
   "metadata": {},
   "outputs": [
    {
     "name": "stdout",
     "output_type": "stream",
     "text": [
      "Hola\n"
     ]
    }
   ],
   "source": [
    "print(\"Hola\")\n",
    "\n"
   ]
  },
  {
   "cell_type": "code",
   "execution_count": 4,
   "id": "4cff68a3",
   "metadata": {},
   "outputs": [
    {
     "name": "stdout",
     "output_type": "stream",
     "text": [
      "¿Cuantos primos quieres? 1\n",
      "2\n"
     ]
    }
   ],
   "source": [
    "def Primos(n):  \n",
    "    for i in range(2,n//2+1):  \n",
    "        if(n%i==0):  \n",
    "            return(0)  \n",
    "    return(1)  \n",
    "  \n",
    "N=int(input(\"¿Cuantos primos quieres? \"))  \n",
    "i=2\n",
    "lista_primos=[] \n",
    "while(1):  \n",
    "    if(Primos(i)):  \n",
    "        lista_primos.append(i) \n",
    "        if(len(lista_primos)==N): \n",
    "            break \n",
    "    i+=1 \n",
    "\n",
    "print(*lista_primos) "
   ]
  },
  {
   "cell_type": "code",
   "execution_count": 6,
   "id": "d705836b",
   "metadata": {},
   "outputs": [
    {
     "name": "stdout",
     "output_type": "stream",
     "text": [
      "a=  [1.2, 3.7, -0.25]\n",
      "b=  [-0.44, -2.8, 7]\n",
      "a x b=  [25.200000000000003, -8.290000000000001, -1.7319999999999998]\n"
     ]
    }
   ],
   "source": [
    "def cross(a,b):\n",
    "    c=[]\n",
    "    c.append(a[1]*b[2]-a[2]*b[1])\n",
    "    c.append(a[2]*b[0]-a[0]*b[2])\n",
    "    c.append(a[0]*b[1]-a[1]*b[0])\n",
    "    return c\n",
    "x=[1.2,3.7,-.25]\n",
    "y=[-.44,-2.8,7]\n",
    "cr=cross(x,y)\n",
    "print(\"a= \", x)\n",
    "print(\"b= \", y)\n",
    "print(\"a x b= \", cr)"
   ]
  },
  {
   "cell_type": "code",
   "execution_count": 8,
   "id": "88cc3f69",
   "metadata": {},
   "outputs": [
    {
     "name": "stdout",
     "output_type": "stream",
     "text": [
      "[['1.2', ' 3.7', ' -0.25'], ['-0.44', ' -2.8', ' 7']]\n",
      "a=  [1.2, 3.7, -0.25]\n",
      "b=  [-0.44, -2.8, 7.0]\n",
      "a x b=  [25.200000000000003, -8.290000000000001, -1.7319999999999998]\n"
     ]
    }
   ],
   "source": [
    "import csv\n",
    "filas=[]\n",
    "with open(\"vectors.csv\",'r') as file:\n",
    "    csvr=csv.reader(file)\n",
    "    for row in csvr:\n",
    "        filas.append(row)\n",
    "print(filas)\n",
    "x=[float(filas[0][0]),float(filas[0][1]),float(filas[0][2])]\n",
    "y=[float(filas[1][0]),float(filas[1][1]),float(filas[1][2])]\n",
    "cr=cross(x,y)\n",
    "print(\"a= \", x)\n",
    "print(\"b= \", y)\n",
    "print(\"a x b= \", cr)"
   ]
  },
  {
   "cell_type": "code",
   "execution_count": null,
   "id": "048d0ea7",
   "metadata": {},
   "outputs": [],
   "source": []
  }
 ],
 "metadata": {
  "kernelspec": {
   "display_name": "Python 3 (ipykernel)",
   "language": "python",
   "name": "python3"
  },
  "language_info": {
   "codemirror_mode": {
    "name": "ipython",
    "version": 3
   },
   "file_extension": ".py",
   "mimetype": "text/x-python",
   "name": "python",
   "nbconvert_exporter": "python",
   "pygments_lexer": "ipython3",
   "version": "3.8.13"
  }
 },
 "nbformat": 4,
 "nbformat_minor": 5
}
